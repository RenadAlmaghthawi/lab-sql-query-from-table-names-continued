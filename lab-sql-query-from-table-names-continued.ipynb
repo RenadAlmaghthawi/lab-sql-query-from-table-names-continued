{
 "cells": [
  {
   "cell_type": "markdown",
   "id": "7d930c89-4954-4e39-be5a-601c1dd89512",
   "metadata": {
    "id": "7d930c89-4954-4e39-be5a-601c1dd89512"
   },
   "source": [
    "# SQL query from table names - Continued"
   ]
  },
  {
   "cell_type": "code",
   "execution_count": 3,
   "id": "a03f026a",
   "metadata": {
    "id": "a03f026a"
   },
   "outputs": [],
   "source": [
    "from openai import OpenAI\n",
    "import os\n",
    "from dotenv import load_dotenv, find_dotenv\n",
    "_ = load_dotenv(find_dotenv())\n",
    "\n",
    "OPENAI_API_KEY  = os.getenv('OPENAI_API_KEY')"
   ]
  },
  {
   "cell_type": "markdown",
   "id": "53a05b80-88fd-42b2-ba89-763074ae74e9",
   "metadata": {
    "id": "53a05b80-88fd-42b2-ba89-763074ae74e9"
   },
   "source": [
    "## The old Prompt"
   ]
  },
  {
   "cell_type": "code",
   "execution_count": 16,
   "id": "922f8d24",
   "metadata": {
    "id": "922f8d24"
   },
   "outputs": [],
   "source": [
    "#The old prompt\n",
    "old_context = [ {'role':'system', 'content':\"\"\"\n",
    "you are a bot to assist in create SQL commands, all your answers should start with \\\n",
    "this is your SQL, and after that an SQL that can do what the user request. \\\n",
    "Your Database is composed by a SQL database with some tables. \\\n",
    "Try to maintain the SQL order simple.\n",
    "Put the SQL command in white letters with a black background, and just after \\\n",
    "a simple and concise text explaining how it works.\n",
    "If the user ask for something that can not be solved with an SQL Order \\\n",
    "just answer something nice and simple, maximum 10 words, asking him for something that \\\n",
    "can be solved with SQL.\n",
    "\"\"\"} ]\n",
    "\n",
    "old_context.append( {'role':'system', 'content':\"\"\"\n",
    "first table:\n",
    "{\n",
    "  \"tableName\": \"employees\",\n",
    "  \"fields\": [\n",
    "    {\n",
    "      \"nombre\": \"ID_usr\",\n",
    "      \"tipo\": \"int\"\n",
    "    },\n",
    "    {\n",
    "      \"nombre\": \"name\",\n",
    "      \"tipo\": \"varchar\"\n",
    "    }\n",
    "  ]\n",
    "}\n",
    "\"\"\"\n",
    "})\n",
    "\n",
    "old_context.append( {'role':'system', 'content':\"\"\"\n",
    "second table:\n",
    "{\n",
    "  \"tableName\": \"salary\",\n",
    "  \"fields\": [\n",
    "    {\n",
    "      \"nombre\": \"ID_usr\",\n",
    "      \"type\": \"int\"\n",
    "    },\n",
    "    {\n",
    "      \"name\": \"year\",\n",
    "      \"type\": \"date\"\n",
    "    },\n",
    "    {\n",
    "      \"name\": \"salary\",\n",
    "      \"type\": \"float\"\n",
    "    }\n",
    "  ]\n",
    "}\n",
    "\"\"\"\n",
    "})\n",
    "\n",
    "old_context.append( {'role':'system', 'content':\"\"\"\n",
    "third table:\n",
    "{\n",
    "  \"tablename\": \"studies\",\n",
    "  \"fields\": [\n",
    "    {\n",
    "      \"name\": \"ID\",\n",
    "      \"type\": \"int\"\n",
    "    },\n",
    "    {\n",
    "      \"name\": \"ID_usr\",\n",
    "      \"type\": \"int\"\n",
    "    },\n",
    "    {\n",
    "      \"name\": \"educational_level\",\n",
    "      \"type\": \"int\"\n",
    "    },\n",
    "    {\n",
    "      \"name\": \"Institution\",\n",
    "      \"type\": \"varchar\"\n",
    "    },\n",
    "    {\n",
    "      \"name\": \"Years\",\n",
    "      \"type\": \"date\"\n",
    "    }\n",
    "    {\n",
    "      \"name\": \"Speciality\",\n",
    "      \"type\": \"varchar\"\n",
    "    }\n",
    "  ]\n",
    "}\n",
    "\"\"\"\n",
    "})"
   ]
  },
  {
   "cell_type": "markdown",
   "id": "377acaae-7dd0-4d13-bc68-9e33741c231c",
   "metadata": {
    "id": "377acaae-7dd0-4d13-bc68-9e33741c231c"
   },
   "source": [
    "## New Prompt.\n",
    "We are going to improve it following the instructions of a Paper from the Ohaio University: [How to Prompt LLMs for Text-to-SQL: A Study in Zero-shot, Single-domain, and Cross-domain Settings](https://arxiv.org/abs/2305.11853). I recommend you read that paper.\n",
    "\n",
    "For each table, we will define the structure using the same syntax as in a SQL create table command, and add the sample rows of the content.\n",
    "\n",
    "Finally, at the end of the prompt, we'll include some example queries with the SQL that the model should generate. This technique is called Few-Shot Samples, in which we provide the prompt with some examples to assist it in generating the correct SQL.\n"
   ]
  },
  {
   "cell_type": "code",
   "execution_count": 24,
   "id": "5334f942",
   "metadata": {
    "id": "5334f942"
   },
   "outputs": [],
   "source": [
    "context = []\n",
    "context.append({'role': 'system', 'content': \"\"\"\n",
    "-- Table: Employees\n",
    "CREATE TABLE employees (\n",
    "  ID_usr INTEGER PRIMARY KEY,\n",
    "  name TEXT\n",
    ")\n",
    "-- Sample Rows:\n",
    "-- (1, 'Alice Johnson')\n",
    "-- (2, 'Bob Smith')\n",
    "-- (3, 'Carol Davis')\n",
    "\n",
    "-- Table: Salary\n",
    "CREATE TABLE salary (\n",
    "  ID_usr INTEGER,\n",
    "  year DATE,\n",
    "  salary REAL,\n",
    "  PRIMARY KEY (ID_usr, year)\n",
    ")\n",
    "-- Sample Rows:\n",
    "-- (1, '2023-01-01', 50000.00)\n",
    "-- (2, '2023-01-01', 60000.00)\n",
    "-- (3, '2023-01-01', 45000.00)\n",
    "\n",
    "-- Table: Studies\n",
    "CREATE TABLE studies (\n",
    "  ID INTEGER PRIMARY KEY,\n",
    "  ID_usr INTEGER,\n",
    "  educational_level INTEGER,\n",
    "  Institution TEXT,\n",
    "  Years DATE,\n",
    "  Speciality TEXT\n",
    ")\n",
    "-- Sample Rows:\n",
    "-- (1, 1, 3, 'XYZ University', '2020-2024', 'Computer Science')\n",
    "-- (2, 2, 2, 'ABC University', '2019-2023', 'Business Administration')\n",
    "-- (3, 3, 1, 'LMN University', '2018-2022', 'Engineering')\n",
    "\"\"\"})"
   ]
  },
  {
   "cell_type": "code",
   "execution_count": 25,
   "id": "330e69b0-3f5f-4bb2-8185-aedded2bb993",
   "metadata": {
    "id": "330e69b0-3f5f-4bb2-8185-aedded2bb993"
   },
   "outputs": [],
   "source": [
    "#FEW SHOT SAMPLES\n",
    "\n",
    "context.append({'role': 'system', 'content': \"\"\"\n",
    "-- Maintain the SQL order simple and efficient as you can, using valid SQLite, answer the following questions for the tables provided above.\n",
    "\n",
    "Q: List all employee names.\n",
    "A: SELECT name FROM employees\n",
    "\n",
    "Q: What is Bob Smith's salary for the year 2023?\n",
    "A: SELECT salary FROM salary\n",
    "JOIN employees ON salary.ID_usr = employees.ID_usr\n",
    "WHERE employees.name = 'Bob Smith' AND salary.year = '2023-01-01'\n",
    "\n",
    "Q: Show all employees who studied at 'XYZ University'.\n",
    "A: SELECT employees.name FROM employees\n",
    "JOIN studies ON employees.ID_usr = studies.ID_usr\n",
    "WHERE studies.Institution = 'XYZ University'\n",
    "\n",
    "Q: How many employees have a salary above 50,000?\n",
    "A: SELECT COUNT(*) FROM salary\n",
    "WHERE salary > 50000\n",
    "\n",
    "Q: Find all educational levels of employees who studied 'Engineering'.\n",
    "A: SELECT DISTINCT educational_level FROM studies\n",
    "WHERE Speciality = 'Engineering'\n",
    "                \n",
    "\"\"\"})"
   ]
  },
  {
   "cell_type": "code",
   "execution_count": 19,
   "id": "b90f417a",
   "metadata": {
    "id": "b90f417a"
   },
   "outputs": [],
   "source": [
    "#Functio to call the model.\n",
    "def return_CCRMSQL(user_message, context):\n",
    "    client = OpenAI(\n",
    "    # This is the default and can be omitted\n",
    "    api_key=OPENAI_API_KEY,\n",
    ")\n",
    "\n",
    "    newcontext = context.copy()\n",
    "    newcontext.append({'role':'user', 'content':\"question: \" + user_message})\n",
    "\n",
    "    response = client.chat.completions.create(\n",
    "            model=\"gpt-3.5-turbo\",\n",
    "            messages=newcontext,\n",
    "            temperature=0,\n",
    "        )\n",
    "\n",
    "    return (response.choices[0].message.content)"
   ]
  },
  {
   "cell_type": "markdown",
   "id": "9e0a4c11-dfe1-46fe-ac2b-3ff825f9749c",
   "metadata": {
    "id": "9e0a4c11-dfe1-46fe-ac2b-3ff825f9749c"
   },
   "source": [
    "## NL2SQL Samples\n",
    "We're going to review some examples generated with the old prompt and others with the new prompt."
   ]
  },
  {
   "cell_type": "code",
   "execution_count": 20,
   "id": "59e8202c-ce34-487e-9037-c65a263423ed",
   "metadata": {
    "colab": {
     "base_uri": "https://localhost:8080/"
    },
    "id": "59e8202c-ce34-487e-9037-c65a263423ed",
    "outputId": "f7a97b9f-45d7-4f78-8979-a796c5bc42fb"
   },
   "outputs": [
    {
     "name": "stdout",
     "output_type": "stream",
     "text": [
      "```sql\n",
      "SELECT employees.name\n",
      "FROM employees\n",
      "JOIN salary ON employees.ID_usr = salary.ID_usr\n",
      "ORDER BY salary.salary DESC\n",
      "LIMIT 1\n",
      "```\n"
     ]
    }
   ],
   "source": [
    "#new\n",
    "context_user = context.copy()\n",
    "print(return_CCRMSQL(\"Who is the employee with the highest salary?\", context_user))"
   ]
  },
  {
   "cell_type": "code",
   "execution_count": 21,
   "id": "9c4766b1-48a9-456e-bc6c-4b6f41909aa4",
   "metadata": {
    "colab": {
     "base_uri": "https://localhost:8080/"
    },
    "id": "9c4766b1-48a9-456e-bc6c-4b6f41909aa4",
    "outputId": "029844da-5f1f-4f65-9adb-4d9c1cafacea"
   },
   "outputs": [
    {
     "name": "stdout",
     "output_type": "stream",
     "text": [
      "This is your SQL:\n",
      "```sql\n",
      "SELECT e.name, s.salary\n",
      "FROM employees e\n",
      "JOIN salary s ON e.ID_usr = s.ID_usr\n",
      "ORDER BY s.salary DESC\n",
      "LIMIT 1;\n",
      "```\n",
      "\n",
      "This SQL query selects the name and salary of the employee with the highest salary by joining the \"employees\" and \"salary\" tables on the ID_usr column, ordering the results by salary in descending order, and limiting the output to only the top result.\n"
     ]
    }
   ],
   "source": [
    "#old\n",
    "old_context_user = old_context.copy()\n",
    "print(return_CCRMSQL(\"Who is the employee with the highest salary?\", old_context_user))"
   ]
  },
  {
   "cell_type": "code",
   "execution_count": 22,
   "id": "38d8d370-0524-4a28-bd54-5e5cddb08e2c",
   "metadata": {
    "colab": {
     "base_uri": "https://localhost:8080/"
    },
    "id": "38d8d370-0524-4a28-bd54-5e5cddb08e2c",
    "outputId": "2934cdec-bea0-44db-b047-33e70dcf8ae8"
   },
   "outputs": [
    {
     "name": "stdout",
     "output_type": "stream",
     "text": [
      "```sql\n",
      "SELECT Institution, AVG(salary.salary) AS avg_salary\n",
      "FROM studies\n",
      "JOIN salary ON studies.ID_usr = salary.ID_usr\n",
      "GROUP BY Institution\n",
      "ORDER BY avg_salary DESC\n",
      "LIMIT 1;\n",
      "```\n"
     ]
    }
   ],
   "source": [
    "#new\n",
    "print(return_CCRMSQL(\"HWhat is the institution with the highest average salary for its graduates?\", context_user))"
   ]
  },
  {
   "cell_type": "code",
   "execution_count": 23,
   "id": "5aa318d4-dd9f-41db-8ff4-c1d87220f766",
   "metadata": {
    "colab": {
     "base_uri": "https://localhost:8080/"
    },
    "id": "5aa318d4-dd9f-41db-8ff4-c1d87220f766",
    "outputId": "605724a1-0d89-4ed9-d8ec-1aeeae6dc287"
   },
   "outputs": [
    {
     "name": "stdout",
     "output_type": "stream",
     "text": [
      "This is your SQL:\n",
      "```sql\n",
      "SELECT s.Institution, AVG(sa.salary) AS avg_salary\n",
      "FROM studies s\n",
      "JOIN employees e ON s.ID_usr = e.ID_usr\n",
      "JOIN salary sa ON s.ID_usr = sa.ID_usr\n",
      "GROUP BY s.Institution\n",
      "ORDER BY avg_salary DESC\n",
      "LIMIT 1;\n",
      "```\n",
      "\n",
      "This SQL query joins the tables `studies`, `employees`, and `salary` on the user ID to calculate the average salary for graduates of each institution. It then selects the institution with the highest average salary for its graduates by ordering the results in descending order and limiting the output to the top result.\n"
     ]
    }
   ],
   "source": [
    "#old\n",
    "print(return_CCRMSQL(\"What is the institution with the highest average salary for its graduates?\", old_context_user))"
   ]
  },
  {
   "cell_type": "markdown",
   "id": "0f31968e-74ad-4ae2-9537-b3d550b1be47",
   "metadata": {
    "id": "0f31968e-74ad-4ae2-9537-b3d550b1be47"
   },
   "source": [
    "# Exercise\n",
    " - Complete the prompts similar to what we did in class. \n",
    "     - Try at least 3 versions\n",
    "     - Be creative\n",
    " - Write a one page report summarizing your findings.\n",
    "     - Were there variations that didn't work well? i.e., where GPT either hallucinated or wrong.\n",
    "     - What did you learn?"
   ]
  },
  {
   "cell_type": "markdown",
   "id": "57f9f1aa",
   "metadata": {},
   "source": []
  },
  {
   "cell_type": "code",
   "execution_count": 29,
   "id": "16219796",
   "metadata": {},
   "outputs": [],
   "source": [
    "context1 = []\n",
    "context1.append({'role': 'system', 'content': \"\"\"\n",
    "You are a SQL assistant. Answer the question by writing the SQL command only.\n",
    "Keep it simple and correct. Your database has Employees, Salary, and Studies tables.\n",
    "                 \n",
    "-- Table: Employees\n",
    "CREATE TABLE employees (\n",
    "  ID_usr INTEGER PRIMARY KEY,\n",
    "  name TEXT\n",
    ")\n",
    "-- Sample Rows:\n",
    "-- (1, 'Alice Johnson')\n",
    "-- (2, 'Bob Smith')\n",
    "-- (3, 'Carol Davis')\n",
    "\n",
    "-- Table: Salary\n",
    "CREATE TABLE salary (\n",
    "  ID_usr INTEGER,\n",
    "  year DATE,\n",
    "  salary REAL,\n",
    "  PRIMARY KEY (ID_usr, year)\n",
    ")\n",
    "-- Sample Rows:\n",
    "-- (1, '2023-01-01', 50000.00)\n",
    "-- (2, '2023-01-01', 60000.00)\n",
    "-- (3, '2023-01-01', 45000.00)\n",
    "\n",
    "-- Table: Studies\n",
    "CREATE TABLE studies (\n",
    "  ID INTEGER PRIMARY KEY,\n",
    "  ID_usr INTEGER,\n",
    "  educational_level INTEGER,\n",
    "  Institution TEXT,\n",
    "  Years DATE,\n",
    "  Speciality TEXT\n",
    ")\n",
    "-- Sample Rows:\n",
    "-- (1, 1, 3, 'XYZ University', '2020-2024', 'Computer Science')\n",
    "-- (2, 2, 2, 'ABC University', '2019-2023', 'Business Administration')\n",
    "-- (3, 3, 1, 'LMN University', '2018-2022', 'Engineering')\n",
    "\n",
    "Q: Find the names of customers who ordered a product priced more than $500.\n",
    "A: \n",
    "```sql\n",
    "SELECT DISTINCT Customers.name\n",
    "FROM Customers\n",
    "JOIN Orders ON Customers.customer_id = Orders.customer_id\n",
    "JOIN Products ON Orders.product_id = Products.product_id\n",
    "WHERE Products.price > 500\n",
    "```\n",
    "This SQL query retrieves the names of customers who have ordered products priced over $500. \n",
    "It joins the Customers, Orders, and Products tables to filter based on product price.\n",
    "\"\"\"})\n"
   ]
  },
  {
   "cell_type": "code",
   "execution_count": 34,
   "id": "d845a93a",
   "metadata": {},
   "outputs": [
    {
     "name": "stdout",
     "output_type": "stream",
     "text": [
      "```sql\n",
      "SELECT COUNT(*)\n",
      "FROM Employees\n",
      "JOIN Salary ON Employees.ID_usr = Salary.ID_usr\n",
      "WHERE Salary.salary > 50000\n",
      "```\n"
     ]
    }
   ],
   "source": [
    "print(return_CCRMSQL(\"How many employees have a salary greater than 50,000\", context1))"
   ]
  },
  {
   "cell_type": "code",
   "execution_count": 32,
   "id": "97eefdd7",
   "metadata": {},
   "outputs": [],
   "source": [
    "context2 = []\n",
    "context2.append({'role': 'system', 'content': \"\"\"\n",
    "You are a helpful SQL assistant. Based on the following schema, write clean, valid SQLite code to answer the question.\n",
    "Return the SQL query inside a code block, followed by a short explanation in plain English.\n",
    "\n",
    "-- Table: Employees\n",
    "CREATE TABLE employees (\n",
    "  ID_usr INTEGER PRIMARY KEY,\n",
    "  name TEXT\n",
    ")\n",
    "-- Sample Rows:\n",
    "-- (1, 'Alice Johnson')\n",
    "-- (2, 'Bob Smith')\n",
    "-- (3, 'Carol Davis')\n",
    "\n",
    "-- Table: Salary\n",
    "CREATE TABLE salary (\n",
    "  ID_usr INTEGER,\n",
    "  year DATE,\n",
    "  salary REAL,\n",
    "  PRIMARY KEY (ID_usr, year)\n",
    ")\n",
    "-- Sample Rows:\n",
    "-- (1, '2023-01-01', 50000.00)\n",
    "-- (2, '2023-01-01', 60000.00)\n",
    "-- (3, '2023-01-01', 45000.00)\n",
    "\n",
    "-- Table: Studies\n",
    "CREATE TABLE studies (\n",
    "  ID INTEGER PRIMARY KEY,\n",
    "  ID_usr INTEGER,\n",
    "  educational_level INTEGER,\n",
    "  Institution TEXT,\n",
    "  Years DATE,\n",
    "  Speciality TEXT\n",
    ")\n",
    "-- Sample Rows:\n",
    "-- (1, 1, 3, 'XYZ University', '2020-2024', 'Computer Science')\n",
    "-- (2, 2, 2, 'ABC University', '2019-2023', 'Business Administration')\n",
    "-- (3, 3, 1, 'LMN University', '2018-2022', 'Engineering')\n",
    "\n",
    "Q: Who is the employee with the highest salary?\n",
    "A:\n",
    "```sql\n",
    "SELECT employees.name\n",
    "FROM employees\n",
    "JOIN salary ON employees.ID_usr = salary.ID_usr\n",
    "ORDER BY salary.salary DESC\n",
    "LIMIT 1\"\n",
    "```\n",
    "This SQL query retrieves the name of the employee with the highest salary by joining the employees and salary tables, ordering by salary in descending order, and limiting the result to one row.\"\n",
    "\"\"\"\n",
    "})\n"
   ]
  },
  {
   "cell_type": "code",
   "execution_count": 35,
   "id": "0dd0da51",
   "metadata": {},
   "outputs": [
    {
     "name": "stdout",
     "output_type": "stream",
     "text": [
      "```sql\n",
      "SELECT COUNT(*)\n",
      "FROM employees\n",
      "JOIN salary ON employees.ID_usr = salary.ID_usr\n",
      "WHERE salary.salary > 50000\n",
      "```\n",
      "\n",
      "This SQL query counts the number of employees who have a salary greater than 50,000 by joining the employees and salary tables, filtering the results to include only those with a salary greater than 50,000.\n"
     ]
    }
   ],
   "source": [
    "print(return_CCRMSQL(\"How many employees have a salary greater than 50,000\", context2))"
   ]
  },
  {
   "cell_type": "code",
   "execution_count": 41,
   "id": "d1279f29",
   "metadata": {},
   "outputs": [],
   "source": [
    "context3 = []\n",
    "context3.append({'role': 'system', 'content': \"\"\"\n",
    "You are a helpful SQL assistant. Based on the following schema, write clean, valid SQLite code to answer the question.\n",
    "Return the SQL query inside a code block, followed by a short explanation in plain English. \n",
    "provide a sample result with the query.\n",
    "If the user asks questions that are not related to SQL or do not match the schema provided, \n",
    "kindly inform them that you can only assist with SQL-related queries.\n",
    "\n",
    "-- Table: Employees\n",
    "CREATE TABLE employees (\n",
    "  ID_usr INTEGER PRIMARY KEY,\n",
    "  name TEXT\n",
    ")\n",
    "-- Sample Rows:\n",
    "-- (1, 'Alice Johnson')\n",
    "-- (2, 'Bob Smith')\n",
    "-- (3, 'Carol Davis')\n",
    "\n",
    "-- Table: Salary\n",
    "CREATE TABLE salary (\n",
    "  ID_usr INTEGER,\n",
    "  year DATE,\n",
    "  salary REAL,\n",
    "  PRIMARY KEY (ID_usr, year)\n",
    ")\n",
    "-- Sample Rows:\n",
    "-- (1, '2023-01-01', 50000.00)\n",
    "-- (2, '2023-01-01', 60000.00)\n",
    "-- (3, '2023-01-01', 45000.00)\n",
    "\n",
    "-- Table: Studies\n",
    "CREATE TABLE studies (\n",
    "  ID INTEGER PRIMARY KEY,\n",
    "  ID_usr INTEGER,\n",
    "  educational_level INTEGER,\n",
    "  Institution TEXT,\n",
    "  Years DATE,\n",
    "  Speciality TEXT\n",
    ")\n",
    "-- Sample Rows:\n",
    "-- (1, 1, 3, 'XYZ University', '2020-2024', 'Computer Science')\n",
    "-- (2, 2, 2, 'ABC University', '2019-2023', 'Business Administration')\n",
    "-- (3, 3, 1, 'LMN University', '2018-2022', 'Engineering')\n",
    "\n",
    "----------------------- QUESTIONS ------------------------\n",
    "\n",
    "Q1: List all employee names.\n",
    "A1:\n",
    "```sql\n",
    "SELECT name FROM employees;\n",
    "                 \n",
    "Q2: Who is the employee with the highest salary?\n",
    "A2:\n",
    "```sql\n",
    "SELECT employees.name\n",
    "FROM employees\n",
    "JOIN salary ON employees.ID_usr = salary.ID_usr\n",
    "ORDER BY salary.salary DESC\n",
    "LIMIT 1\"\n",
    "```\n",
    "This SQL query retrieves the name of the employee with the highest salary by joining the employees and salary tables, ordering by salary in descending order, and limiting the result to one row.\"\n",
    "\"\"\"\n",
    "})"
   ]
  },
  {
   "cell_type": "code",
   "execution_count": 43,
   "id": "6ca1da4f",
   "metadata": {},
   "outputs": [
    {
     "name": "stdout",
     "output_type": "stream",
     "text": [
      "I can help with that! Here is the SQL query to find the number of employees who have a salary greater than 50,000:\n",
      "\n",
      "```sql\n",
      "SELECT COUNT(*) \n",
      "FROM employees \n",
      "JOIN salary ON employees.ID_usr = salary.ID_usr \n",
      "WHERE salary.salary > 50000;\n",
      "```\n",
      "\n",
      "This query counts the number of employees whose salary is greater than 50,000 by joining the employees and salary tables and filtering for salaries above 50,000.\n",
      "\n",
      "Sample Result:\n",
      "| COUNT(*) |\n",
      "|----------|\n",
      "| 1        |\n"
     ]
    }
   ],
   "source": [
    "print(return_CCRMSQL(\"How many employees have a salary greater than 50,000\", context3))"
   ]
  },
  {
   "cell_type": "markdown",
   "id": "9795c555",
   "metadata": {},
   "source": [
    "# Summary Report\n"
   ]
  },
  {
   "cell_type": "markdown",
   "id": "70596d0a",
   "metadata": {},
   "source": [
    "\n",
    "## 🎯 Goal\n",
    "Test how different prompt styles (`context1`, `context2`, `context3`) affect GPT's SQL response to the question:\n",
    "\n",
    "> **\"How many employees have a salary greater than 50,000?\"**\n",
    "\n",
    "---\n",
    "\n",
    "## Results Overview\n",
    "\n",
    "### 1️⃣ Context 1\n",
    "- **Style:** SQL only.\n",
    "- **Result:** Correct query, no explanation.\n",
    "- **Use Case:** Fast and clean automation.\n",
    "\n",
    "---\n",
    "\n",
    "### 2️⃣ Context 2\n",
    "- **Style:** SQL + brief explanation.\n",
    "- **Result:** Clear, correct, and easy to understand.\n",
    "- **Use Case:** Learning or documentation.\n",
    "\n",
    "---\n",
    "\n",
    "### 3️⃣ Context 3\n",
    "- **Style:** SQL + explanation + sample result.\n",
    "- **Result:** Most detailed output with example table.\n",
    "- **Use Case:** Teaching, demos, or debugging.\n",
    "\n",
    "---\n",
    "\n",
    "## 📌 Insights\n",
    "\n",
    "- All versions returned correct SQL.\n",
    "- **context1**: Minimal but efficient.\n",
    "- **context2**: Balanced and readable.\n",
    "- **context3**: Best for clarity and showcasing output.\n",
    "- No hallucinations or incorrect logic observed.\n",
    "\n",
    "---\n",
    "\n",
    "## ✅ Conclusion\n",
    "\n",
    "Prompt design significantly shapes output clarity. Use concise prompts for speed, and richer ones for educational or presentation needs.\n",
    "\n"
   ]
  },
  {
   "cell_type": "code",
   "execution_count": null,
   "id": "9c112faf",
   "metadata": {},
   "outputs": [],
   "source": []
  }
 ],
 "metadata": {
  "colab": {
   "include_colab_link": true,
   "provenance": []
  },
  "kernelspec": {
   "display_name": "Python 3",
   "language": "python",
   "name": "python3"
  },
  "language_info": {
   "codemirror_mode": {
    "name": "ipython",
    "version": 3
   },
   "file_extension": ".py",
   "mimetype": "text/x-python",
   "name": "python",
   "nbconvert_exporter": "python",
   "pygments_lexer": "ipython3",
   "version": "3.11.4"
  }
 },
 "nbformat": 4,
 "nbformat_minor": 5
}
